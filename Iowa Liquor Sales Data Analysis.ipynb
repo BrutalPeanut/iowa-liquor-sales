{
 "cells": [
  {
   "cell_type": "markdown",
   "metadata": {},
   "source": [
    "# Iowa Liquor Sales Data Analysis\n",
    "\n",
    "The State of Iowa generously offers a [data portal](https://data.iowa.gov) with numerous data sets available for data analysis. One particularly interesting data set is the [Iowa Liquor Sales](https://data.iowa.gov/Economy/Iowa-Liquor-Sales/m3tr-qhgy) data, which contains information such as zip code, county, store, and volume sold for Iowa liquor sales from 1/03/2012 to 12/31/2018. The full data dictionary can be viewed at the link provided above. Each row in the data corresponds to a single order.\n",
    "\n",
    "Some interesting questions to explore are:\n",
    "* Which cities sell the most liquor, and why?\n",
    "* During which months is alcohol sold the most, and why?\n",
    "* Which brands are the most popular? Are some brands more popular than others in certain cities?\n",
    "* Is whiskey more popular than vodka? What type of liquor is the most popular? Does it vary by city?\n",
    "\n",
    "Data of particular interest to us will be:\n",
    "* **Date:** Date of the order\n",
    "* **City:** City where the store which ordered the liquor is located. City is used over Zip Code because cities can have multiple Zip Codes.\n",
    "* **Category Name:** The type of liquor ordered\n",
    "* **Item Description:** Brand & type of liquor ordered\n",
    "* **Sale (Dollars):** The total cost of the liquor order\n",
    "* **Volume Sold (Gallons):** The total volume of liquor sold in gallons. This will likely be more useful and accurate than Bottles Sold as the amount of fluid in a bottle is unclear."
   ]
  },
  {
   "cell_type": "markdown",
   "metadata": {},
   "source": [
    "To start off, let's import our necessary libraries for our data analysis and visualization and read in our data."
   ]
  },
  {
   "cell_type": "code",
   "execution_count": 1,
   "metadata": {},
   "outputs": [],
   "source": [
    "%matplotlib inline\n",
    "import matplotlib\n",
    "import matplotlib.pyplot as plt\n",
    "import numpy as np\n",
    "import pandas as pd\n",
    "\n",
    "sales = pd.read_csv('Iowa_Liquor_Sales.csv', low_memory=False)"
   ]
  },
  {
   "cell_type": "markdown",
   "metadata": {},
   "source": [
    "# Data Cleaning\n",
    "\n",
    "We must first do some preliminary data cleaning before we can do our data analysis."
   ]
  },
  {
   "cell_type": "markdown",
   "metadata": {},
   "source": [
    "Alright, let's get a feel for our data. We'll use the `df.shape` attribute and the `describe()` method to get a quick overview."
   ]
  },
  {
   "cell_type": "code",
   "execution_count": 2,
   "metadata": {
    "scrolled": false
   },
   "outputs": [
    {
     "name": "stdout",
     "output_type": "stream",
     "text": [
      "There are 15,354,828 rows and 24 columns.\n",
      "\n"
     ]
    },
    {
     "data": {
      "text/html": [
       "<div>\n",
       "<style scoped>\n",
       "    .dataframe tbody tr th:only-of-type {\n",
       "        vertical-align: middle;\n",
       "    }\n",
       "\n",
       "    .dataframe tbody tr th {\n",
       "        vertical-align: top;\n",
       "    }\n",
       "\n",
       "    .dataframe thead th {\n",
       "        text-align: right;\n",
       "    }\n",
       "</style>\n",
       "<table border=\"1\" class=\"dataframe\">\n",
       "  <thead>\n",
       "    <tr style=\"text-align: right;\">\n",
       "      <th></th>\n",
       "      <th>Date</th>\n",
       "      <th>City</th>\n",
       "      <th>Category Name</th>\n",
       "      <th>Item Description</th>\n",
       "    </tr>\n",
       "  </thead>\n",
       "  <tbody>\n",
       "    <tr>\n",
       "      <th>count</th>\n",
       "      <td>15354828</td>\n",
       "      <td>15279801</td>\n",
       "      <td>15333388</td>\n",
       "      <td>15354828</td>\n",
       "    </tr>\n",
       "    <tr>\n",
       "      <th>unique</th>\n",
       "      <td>1674</td>\n",
       "      <td>811</td>\n",
       "      <td>129</td>\n",
       "      <td>7026</td>\n",
       "    </tr>\n",
       "    <tr>\n",
       "      <th>top</th>\n",
       "      <td>12/22/2017</td>\n",
       "      <td>DES MOINES</td>\n",
       "      <td>VODKA 80 PROOF</td>\n",
       "      <td>Black Velvet</td>\n",
       "    </tr>\n",
       "    <tr>\n",
       "      <th>freq</th>\n",
       "      <td>16674</td>\n",
       "      <td>811086</td>\n",
       "      <td>1265974</td>\n",
       "      <td>403031</td>\n",
       "    </tr>\n",
       "  </tbody>\n",
       "</table>\n",
       "</div>"
      ],
      "text/plain": [
       "              Date        City   Category Name Item Description\n",
       "count     15354828    15279801        15333388         15354828\n",
       "unique        1674         811             129             7026\n",
       "top     12/22/2017  DES MOINES  VODKA 80 PROOF     Black Velvet\n",
       "freq         16674      811086         1265974           403031"
      ]
     },
     "execution_count": 2,
     "metadata": {},
     "output_type": "execute_result"
    }
   ],
   "source": [
    "# How many rows and colums does our data have?\n",
    "print('There are {:,} rows and {} columns.\\n'.format(sales.shape[0], sales.shape[1]))\n",
    "sales[['Date', 'City', 'Category Name', 'Item Description']].describe()"
   ]
  },
  {
   "cell_type": "markdown",
   "metadata": {},
   "source": [
    "Over 15 million rows of data! Initially, Des Moines appears to be the biggest buyer of liquor. Vodka seems to be the most popular type of liquor, but Black Velvet appears to be the most popular brand.\n",
    "\n",
    "An interesting thing to note is that our City and Category Name data don't seem to have the same amount of rows as  Date or Category Name. Let's see if we can find the problem."
   ]
  },
  {
   "cell_type": "code",
   "execution_count": 3,
   "metadata": {
    "scrolled": true
   },
   "outputs": [
    {
     "name": "stdout",
     "output_type": "stream",
     "text": [
      "75027\n",
      "21440\n"
     ]
    }
   ],
   "source": [
    "# Sum the number of null values in City\n",
    "# and the number of null vlaues in Category Name\n",
    "print(sales['City'].isna().sum())\n",
    "print(sales['Category Name'].isna().sum())"
   ]
  },
  {
   "cell_type": "markdown",
   "metadata": {},
   "source": [
    "Unfortunately, it appears that the City column contains 75,027 null values and Category Name contains 21,440 null values. Since there is no way to fill in the missing data, we will have to drop all rows with missing data."
   ]
  },
  {
   "cell_type": "code",
   "execution_count": 4,
   "metadata": {},
   "outputs": [],
   "source": [
    "sales = sales.dropna()"
   ]
  },
  {
   "cell_type": "markdown",
   "metadata": {},
   "source": [
    "Now, let's take a closer look at the columns."
   ]
  },
  {
   "cell_type": "code",
   "execution_count": 5,
   "metadata": {
    "scrolled": true
   },
   "outputs": [
    {
     "name": "stdout",
     "output_type": "stream",
     "text": [
      "DES MOINES        809000\n",
      "CEDAR RAPIDS      595436\n",
      "Des Moines        534582\n",
      "DAVENPORT         409334\n",
      "Cedar Rapids      396469\n",
      "WATERLOO          288771\n",
      "IOWA CITY         285193\n",
      "COUNCIL BLUFFS    265618\n",
      "Davenport         258652\n",
      "AMES              247739\n",
      "Name: City, dtype: int64\n",
      "\n",
      "----------------------------------------\n",
      "\n",
      "VODKA 80 PROOF               1255745\n",
      "CANADIAN WHISKIES             928346\n",
      "American Vodkas               802649\n",
      "STRAIGHT BOURBON WHISKIES     539875\n",
      "Canadian Whiskies             535395\n",
      "SPICED RUM                    526385\n",
      "VODKA FLAVORED                498464\n",
      "BLENDED WHISKIES              438464\n",
      "TEQUILA                       431200\n",
      "IMPORTED VODKA                401196\n",
      "Name: Category Name, dtype: int64\n"
     ]
    }
   ],
   "source": [
    "print(sales['City'].value_counts().head(10))\n",
    "print('\\n' + '-'*40 + '\\n')\n",
    "print(sales['Category Name'].value_counts().head(10))"
   ]
  },
  {
   "cell_type": "markdown",
   "metadata": {},
   "source": [
    "The `value_counts()` method reveals another troubling issue: capitalization. Some data are listed twice due to different capitalization (title case and uppercase). Let's see if we can consolidate these data into title case. We'll do this on all the data just in case other rows have the same problem."
   ]
  },
  {
   "cell_type": "code",
   "execution_count": 6,
   "metadata": {
    "scrolled": true
   },
   "outputs": [
    {
     "name": "stdout",
     "output_type": "stream",
     "text": [
      "0       Altoona\n",
      "1     Knoxville\n",
      "2       Dubuque\n",
      "3    Washington\n",
      "4    Des Moines\n",
      "Name: City, dtype: object\n",
      "\n",
      "--------------------\n",
      "\n",
      "              City\n",
      "count     15181926\n",
      "unique         432\n",
      "top     Des Moines\n",
      "freq       1343582\n"
     ]
    }
   ],
   "source": [
    "sales['City'] = sales['City'].str.title()\n",
    "sales['Category Name'] = sales['Category Name'].str.title()\n",
    "\n",
    "print(sales['City'].head())\n",
    "print('\\n' + '-'*20 + '\\n')\n",
    "print(sales[['City']].describe())"
   ]
  },
  {
   "cell_type": "markdown",
   "metadata": {},
   "source": [
    "Much better. Now all City and Category Name data have the same capitalization and are listed only once, and we see that the updated number of unique cities has been refelcted with the `describe()` method."
   ]
  },
  {
   "cell_type": "markdown",
   "metadata": {},
   "source": [
    "# Data Analysis\n",
    "\n",
    "## Which cities purchase the most liquor?"
   ]
  },
  {
   "cell_type": "code",
   "execution_count": 7,
   "metadata": {},
   "outputs": [
    {
     "name": "stdout",
     "output_type": "stream",
     "text": [
      "Des Moines      1343582\n",
      "Cedar Rapids     991905\n",
      "Davenport        667986\n",
      "Waterloo         492615\n",
      "Iowa City        459395\n",
      "Name: City, dtype: int64\n"
     ]
    }
   ],
   "source": [
    "top_5_most_sales = sales['City'].value_counts(dropna=False).head(5)\n",
    "print(top_5_most_sales)"
   ]
  },
  {
   "cell_type": "markdown",
   "metadata": {},
   "source": [
    "The list above includes the top 5 cities with the most liquor sales. This list is ultimately fairly unsurprising. Des Moines, Cedar Rapids, Davenport, and Iowa City are the 1st, 2nd, 3rd, and 5th most populous cities in Iowa according to Wikipedia.\n",
    "\n",
    "What is interesting, however, is that Waterloo is 4th despite it having approximately 15,000 less residents than Sioux City, which is the 4th most populous city according to Wikipedia. What does this say about Waterloo? Why do they buy more liquor?\n",
    "\n",
    "Let's look at volume sold in gallons to see if the number of sales goes along with the volume. This way, we can see if Waterloo has a large number of orders in small volumes."
   ]
  },
  {
   "cell_type": "code",
   "execution_count": 8,
   "metadata": {
    "scrolled": true
   },
   "outputs": [
    {
     "name": "stdout",
     "output_type": "stream",
     "text": [
      "Des Moines\t: 4082599.0\n",
      "Cedar Rapids\t: 2480069.0\n",
      "Davenport\t: 1774029.0\n",
      "Waterloo\t: 1254343.0\n",
      "Iowa City\t: 1230835.0\n"
     ]
    }
   ],
   "source": [
    "for city in top_5_most_sales.index:\n",
    "    print(city + '\\t: ' + str(round(sales.loc[sales['City'] == city, 'Volume Sold (Gallons)'].sum())))"
   ]
  },
  {
   "cell_type": "markdown",
   "metadata": {},
   "source": [
    "The volume sold data coincides with the previous data. Thus, Waterloo still appears to purchase more liquor than would be expected."
   ]
  },
  {
   "cell_type": "markdown",
   "metadata": {},
   "source": [
    "## During which months is liquor sold the most?"
   ]
  },
  {
   "cell_type": "markdown",
   "metadata": {},
   "source": [
    "Because the Date format is MM/DD/YYYY, we're going to have to extract the month data from the Date column."
   ]
  },
  {
   "cell_type": "code",
   "execution_count": 9,
   "metadata": {},
   "outputs": [],
   "source": [
    "from datetime import datetime as dt\n",
    "\n",
    "# Extract the month by splitting the Date by '/'\n",
    "# and retrieving the month at index 0\n",
    "sales['Month'] = sales['Date'].str.split(pat='/').str[0]"
   ]
  },
  {
   "cell_type": "markdown",
   "metadata": {},
   "source": [
    "We should have a column with only the month data now. Let's use a `value_counts()` method to see which months have the most and least liquor sales."
   ]
  },
  {
   "cell_type": "code",
   "execution_count": 10,
   "metadata": {
    "scrolled": true
   },
   "outputs": [
    {
     "name": "stdout",
     "output_type": "stream",
     "text": [
      "12    1528381\n",
      "10    1329446\n",
      "08    1325300\n",
      "05    1318195\n",
      "06    1309310\n",
      "07    1279673\n",
      "11    1225320\n",
      "04    1218771\n",
      "03    1214448\n",
      "09    1190048\n",
      "01    1140585\n",
      "02    1102449\n",
      "Name: Month, dtype: int64\n"
     ]
    }
   ],
   "source": [
    "top_months = sales['Month'].value_counts()\n",
    "\n",
    "print(top_months)"
   ]
  },
  {
   "cell_type": "markdown",
   "metadata": {},
   "source": [
    "It could be useful to visualize this, too. Let's use Pyplot to visualize the data."
   ]
  },
  {
   "cell_type": "code",
   "execution_count": 44,
   "metadata": {
    "scrolled": true
   },
   "outputs": [
    {
     "data": {
      "image/png": "[encoded data removed]",
      "text/plain": [
       "<Figure size 432x288 with 1 Axes>"
      ]
     },
     "metadata": {
      "needs_background": "light"
     },
     "output_type": "display_data"
    }
   ],
   "source": [
    "plt.xlabel('Month')\n",
    "plt.ylabel('Number of Sales')\n",
    "plt.title('Number of Sales by Month')\n",
    "plt.plot(top_months.index.sort_values(), top_months.sort_index(), linewidth=2.0)\n",
    "plt.show()"
   ]
  },
  {
   "cell_type": "markdown",
   "metadata": {},
   "source": [
    "January corresponds to `01`, February to `02`, March to `03`, and so forth.\n",
    "\n",
    "Here, we can see the top 5 months are December, October, August, May, and June, respectively. December appears to have the most sales by almost 300,000! Could this be due to Christmas, or winter break? I wonder what month and day liquor is ordered the most. Let's use a similar method chain to create a Month Day column."
   ]
  },
  {
   "cell_type": "code",
   "execution_count": 11,
   "metadata": {},
   "outputs": [],
   "source": [
    "#Here, we split the data from the right. This leaves us with the date formated as a list [MM/DD, YYYY]\n",
    "sales['Month Day'] = sales['Date'].str.rsplit(pat='/', n=1).str[0]"
   ]
  },
  {
   "cell_type": "code",
   "execution_count": 46,
   "metadata": {
    "scrolled": true
   },
   "outputs": [
    {
     "name": "stdout",
     "output_type": "stream",
     "text": [
      "12/26    88847\n",
      "12/27    77786\n",
      "12/18    74582\n",
      "12/19    71979\n",
      "12/28    68374\n",
      "12/21    67501\n",
      "06/27    66710\n",
      "12/20    65842\n",
      "05/23    63170\n",
      "06/26    62967\n",
      "Name: Month Day, dtype: int64\n"
     ]
    }
   ],
   "source": [
    "top_month_day = sales['Month Day'].value_counts()\n",
    "print(top_month_day.head(10))"
   ]
  },
  {
   "cell_type": "markdown",
   "metadata": {},
   "source": [
    "A whopping 7 out of the 10 days on which alcohol is ordered are in December and are close to Christmas time. Remember, this data is for orders that liquor stores place, not ones which customers buy from liquor stores. \n",
    "\n",
    "Interestingly, the day after Christmas is the most popular date. Could this be stores preparing for New Year's Eve parties? Two huge holidays in one month could explain why December has such a high number of orders.\n",
    "\n",
    "Two other dates are close together: 6/26 and 6/27. These days are about a week before the 4th of July, so this isn't very surprising because people often have 4th of July parties. Finally, 5/23 is the last date in the top 10 days. This day is around the time Labor Day occurs, which is another popular holiday where people like to drink a lot. This data isn't too surprising, but it is interesting. It gives some interesting insight into why these months have the top 5 most sales."
   ]
  },
  {
   "cell_type": "markdown",
   "metadata": {},
   "source": [
    "Looking back at the data, another interesting trend is that sales appear to slow down after December before picking back up in the summer months. Do people drink so much that they decide to take a break after the holidays? Could it be due to a lack of holidays and good weather?\n",
    "\n",
    "One final observation is the huge dip in sales in September. Why could this be? Perhaps it's because college students try to concentrate after returning to school?"
   ]
  },
  {
   "cell_type": "markdown",
   "metadata": {},
   "source": [
    "## Which brands and types are most popular?\n",
    "\n",
    "Which brand does Iowa love the most? What types of alcohol are ordered the most?"
   ]
  },
  {
   "cell_type": "code",
   "execution_count": 13,
   "metadata": {},
   "outputs": [
    {
     "name": "stdout",
     "output_type": "stream",
     "text": [
      "Black Velvet                     399191\n",
      "Hawkeye Vodka                    359624\n",
      "Five O'clock Vodka               254808\n",
      "Captain Morgan Spiced Rum        189679\n",
      "Seagrams 7 Crown Bl Whiskey      179084\n",
      "Jack Daniels Old #7 Black Lbl    173773\n",
      "Fireball Cinnamon Whiskey        165802\n",
      "Jim Beam                         161342\n",
      "Absolut Swedish Vodka 80 Prf     155336\n",
      "Admiral Nelson Spiced Rum        152710\n",
      "Name: Item Description, dtype: int64\n",
      "\n",
      "----------------------------------------\n",
      "\n",
      "Canadian Whiskies            1463741\n",
      "Vodka 80 Proof               1255745\n",
      "Straight Bourbon Whiskies     872294\n",
      "Spiced Rum                    803275\n",
      "American Vodkas               802649\n",
      "Blended Whiskies              662249\n",
      "Whiskey Liqueur               574291\n",
      "Vodka Flavored                498464\n",
      "Tequila                       431200\n",
      "Flavored Rum                  413637\n",
      "Name: Category Name, dtype: int64\n"
     ]
    }
   ],
   "source": [
    "top_brands = sales['Item Description'].value_counts().head(10)\n",
    "top_types = sales['Category Name'].value_counts().head(10)\n",
    "print(top_brands)\n",
    "print('\\n' + '-'*40 + '\\n')\n",
    "print(top_types)"
   ]
  },
  {
   "cell_type": "markdown",
   "metadata": {},
   "source": [
    "Whiskey and vodka appear to be clear winners for the most popular type of alcohol, with rum falling closely behind.\n",
    "\n",
    "Unsurprisingly, Black Velvet and Hawkeye Vodka beat out other brands by at least 10,000 orders. My own anecdotal evidence from working in a liquor store says that these two are the most popular probably due to their cheap price. However, always take anecdotal evidence with a grain of salt."
   ]
  },
  {
   "cell_type": "markdown",
   "metadata": {},
   "source": [
    "### Do some cities prefer certain liquors over others?\n",
    "\n",
    "Let's look at two of the biggest college towns in Iowa: Ames and Iowa City. What is each town's favorite type of liquor?"
   ]
  },
  {
   "cell_type": "code",
   "execution_count": 14,
   "metadata": {},
   "outputs": [
    {
     "name": "stdout",
     "output_type": "stream",
     "text": [
      "Canadian Whiskies            32086\n",
      "Vodka 80 Proof               30482\n",
      "Straight Bourbon Whiskies    27841\n",
      "Spiced Rum                   22410\n",
      "American Vodkas              20035\n",
      "Name: Category Name, dtype: int64\n",
      "\n",
      "----------------------------------------\n",
      "\n",
      "Vodka 80 Proof               39496\n",
      "Straight Bourbon Whiskies    30689\n",
      "Canadian Whiskies            27002\n",
      "Spiced Rum                   22930\n",
      "American Vodkas              22263\n",
      "Name: Category Name, dtype: int64\n"
     ]
    }
   ],
   "source": [
    "top_type_ames = sales.loc[sales['City'] == 'Ames', 'Category Name'].value_counts()\n",
    "top_type_ia_city = sales.loc[sales['City'] == 'Iowa City', 'Category Name'].value_counts()\n",
    "\n",
    "print(top_type_ames.head(5))\n",
    "print('\\n' + '-'*40 + '\\n')\n",
    "print(top_type_ia_city.head(5))"
   ]
  },
  {
   "cell_type": "markdown",
   "metadata": {},
   "source": [
    "Interesting! The two cities share the top 5 favorite types of alcohol, albeit in different orders. It also appears that whiskey is more popular in Ames and vodka is more popular in Iowa City. Let's do some more data cleaning before we come to that conclusion. We're going to import the regular expression module so we can easily count vodka and whiskey orders."
   ]
  },
  {
   "cell_type": "code",
   "execution_count": 15,
   "metadata": {},
   "outputs": [],
   "source": [
    "import re"
   ]
  },
  {
   "cell_type": "code",
   "execution_count": 16,
   "metadata": {},
   "outputs": [
    {
     "name": "stdout",
     "output_type": "stream",
     "text": [
      "Vodka in Ames: 110124\n",
      "Whiskey in Ames: 117962\n",
      "\n",
      "Vodka in Iowa City: 134807\n",
      "Whiskey in Iowa City: 119602\n"
     ]
    }
   ],
   "source": [
    "# We use 'whisk' because some rows are 'Whiskies' and others are 'Whiskey'\n",
    "vodka_ames = top_type_ames[top_type_ames.index.str.contains('vodka', flags=re.IGNORECASE, regex=True)].sum()\n",
    "whiskey_ames = top_type_ames[top_type_ames.index.str.contains('whisk', flags=re.IGNORECASE, regex=True)].sum()\n",
    "\n",
    "vodka_ia_city = top_type_ia_city[top_type_ia_city.index.str.contains('vodka', flags=re.IGNORECASE, regex=True)].sum()\n",
    "whiskey_ia_city = top_type_ia_city[top_type_ia_city.index.str.contains('whisk', flags=re.IGNORECASE, regex=True)].sum()\n",
    "\n",
    "print('Vodka in Ames: ' + str(vodka_ames))\n",
    "print('Whiskey in Ames: ' + str(whiskey_ames) + '\\n')\n",
    "\n",
    "print('Vodka in Iowa City: ' + str(vodka_ia_city))\n",
    "print('Whiskey in Iowa City: ' + str(whiskey_ia_city))"
   ]
  },
  {
   "cell_type": "markdown",
   "metadata": {},
   "source": [
    "It looks like our initial observation stands true! Whiskey is slightly more popular than vodka in Ames from 2012-2018, and vodka is more popular than whiskey in Iowa City from 2012-2018."
   ]
  },
  {
   "cell_type": "markdown",
   "metadata": {},
   "source": [
    "# What's next?\n",
    "\n",
    "This analysis barely scratched the surface of what is to be discovered in the data set. There are hundreds of other (much more complex) connections to be made with this data. Nonetheless, the connections made here were interesting and fun to examine."
   ]
  }
 ],
 "metadata": {
  "kernelspec": {
   "display_name": "Python 3",
   "language": "python",
   "name": "python3"
  },
  "language_info": {
   "codemirror_mode": {
    "name": "ipython",
    "version": 3
   },
   "file_extension": ".py",
   "mimetype": "text/x-python",
   "name": "python",
   "nbconvert_exporter": "python",
   "pygments_lexer": "ipython3",
   "version": "3.7.1"
  }
 },
 "nbformat": 4,
 "nbformat_minor": 2
}
